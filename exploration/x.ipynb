{
 "cells": [
  {
   "cell_type": "markdown",
   "metadata": {},
   "source": [
    "### First exploration about data\n",
    "- Importance of event: Click > Impression > Event"
   ]
  },
  {
   "cell_type": "markdown",
   "metadata": {},
   "source": [
    "##### Read data\n",
    "- Drop duplicates\n",
    "- Remove \"Event\" data point, as it means that the users were not interested in the results.\n",
    "- Remove wrong product names (such as #NAME? and #ERROR)"
   ]
  },
  {
   "cell_type": "code",
   "execution_count": 17,
   "metadata": {
    "scrolled": false
   },
   "outputs": [
    {
     "name": "stdout",
     "output_type": "stream",
     "text": [
      "(10317, 5) (10310, 5)\n"
     ]
    },
    {
     "data": {
      "text/html": [
       "<div>\n",
       "<style>\n",
       "    .dataframe thead tr:only-child th {\n",
       "        text-align: right;\n",
       "    }\n",
       "\n",
       "    .dataframe thead th {\n",
       "        text-align: left;\n",
       "    }\n",
       "\n",
       "    .dataframe tbody tr th {\n",
       "        vertical-align: top;\n",
       "    }\n",
       "</style>\n",
       "<table border=\"1\" class=\"dataframe\">\n",
       "  <thead>\n",
       "    <tr style=\"text-align: right;\">\n",
       "      <th></th>\n",
       "      <th>product_name</th>\n",
       "      <th>category</th>\n",
       "      <th>query</th>\n",
       "      <th>event</th>\n",
       "      <th>date</th>\n",
       "    </tr>\n",
       "  </thead>\n",
       "  <tbody>\n",
       "    <tr>\n",
       "      <th>0</th>\n",
       "      <td>--- X 10 --- 七色 多層次搭配 圓下擺 LAYERED 素面 無袖背心 打底</td>\n",
       "      <td>Male Fashion</td>\n",
       "      <td>無袖</td>\n",
       "      <td>Impression</td>\n",
       "      <td>31/7/17</td>\n",
       "    </tr>\n",
       "    <tr>\n",
       "      <th>1</th>\n",
       "      <td>︱IBIT︱Gymshark 熱銷款 運動T恤 健身T恤 圓領短T 運動短T 健身鯊魚</td>\n",
       "      <td>Male Fashion</td>\n",
       "      <td>gymshark</td>\n",
       "      <td>Impression</td>\n",
       "      <td>31/7/17</td>\n",
       "    </tr>\n",
       "    <tr>\n",
       "      <th>2</th>\n",
       "      <td>︱IBIT︱Gymshark 超高彈性 短褲 運動短褲 跑步短褲 深蹲褲 訓練短褲</td>\n",
       "      <td>Male Fashion</td>\n",
       "      <td>gymshark</td>\n",
       "      <td>Impression</td>\n",
       "      <td>31/7/17</td>\n",
       "    </tr>\n",
       "    <tr>\n",
       "      <th>3</th>\n",
       "      <td>::另類情侶兄弟姊妹殼::電力滿格/不足黑白趣味浮雕手機軟殼i5/i5s/i5se/i6/i...</td>\n",
       "      <td>Mobile &amp; Gadgets</td>\n",
       "      <td>軟殼</td>\n",
       "      <td>Click</td>\n",
       "      <td>31/7/17</td>\n",
       "    </tr>\n",
       "    <tr>\n",
       "      <th>4</th>\n",
       "      <td>：新舊手機商場：Iphone6 16金 （需要看細圖密我）</td>\n",
       "      <td>Mobile &amp; Gadgets</td>\n",
       "      <td>iphone6 系列</td>\n",
       "      <td>Impression</td>\n",
       "      <td>30/7/17</td>\n",
       "    </tr>\n",
       "  </tbody>\n",
       "</table>\n",
       "</div>"
      ],
      "text/plain": [
       "                                        product_name          category  \\\n",
       "0       --- X 10 --- 七色 多層次搭配 圓下擺 LAYERED 素面 無袖背心 打底      Male Fashion   \n",
       "1        ︱IBIT︱Gymshark 熱銷款 運動T恤 健身T恤 圓領短T 運動短T 健身鯊魚      Male Fashion   \n",
       "2          ︱IBIT︱Gymshark 超高彈性 短褲 運動短褲 跑步短褲 深蹲褲 訓練短褲      Male Fashion   \n",
       "3  ::另類情侶兄弟姊妹殼::電力滿格/不足黑白趣味浮雕手機軟殼i5/i5s/i5se/i6/i...  Mobile & Gadgets   \n",
       "4                      ：新舊手機商場：Iphone6 16金 （需要看細圖密我）  Mobile & Gadgets   \n",
       "\n",
       "        query       event     date  \n",
       "0          無袖  Impression  31/7/17  \n",
       "1    gymshark  Impression  31/7/17  \n",
       "2    gymshark  Impression  31/7/17  \n",
       "3          軟殼       Click  31/7/17  \n",
       "4  iphone6 系列  Impression  30/7/17  "
      ]
     },
     "execution_count": 17,
     "metadata": {},
     "output_type": "execute_result"
    }
   ],
   "source": [
    "import pandas as pd\n",
    "import jieba\n",
    "import re\n",
    "import seaborn as sns\n",
    "import numpy as np\n",
    "import matplotlib.pylab as plt\n",
    "import jieba.posseg as pseg\n",
    "import multiprocessing\n",
    "\n",
    "# set matplotlib font to chinese\n",
    "import matplotlib.font_manager as mfm\n",
    "font_path = \"../simhei.ttf\"\n",
    "prop = mfm.FontProperties(fname=font_path)\n",
    "\n",
    "%matplotlib inline\n",
    "\n",
    "product_log = pd.read_csv(\"../data.csv\",sep=\"\\t\",names=[\"product_name\", \"category\", \"query\", \"event\", \"date\"])\n",
    "\n",
    "print product_log.shape, product_log.drop_duplicates().shape\n",
    "product_log = product_log.drop_duplicates()\n",
    "product_log = product_log[product_log.event!= \"Event\"]\n",
    "product_log = product_log[(product_log.product_name!=\"#NAME?\") & (product_log.product_name!=\"#ERROR!\")]\n",
    "product_log.head(5)"
   ]
  },
  {
   "cell_type": "code",
   "execution_count": 9,
   "metadata": {
    "collapsed": true
   },
   "outputs": [],
   "source": [
    "# preprocessing\n",
    "def preprocess(string):\n",
    "    \"\"\"\n",
    "    preprocess the string to remove punctuations\n",
    "    \n",
    "    Inputs:\n",
    "        @string: a text string\n",
    "        \n",
    "    Outputs:\n",
    "        A cleaned string\n",
    "    \"\"\"\n",
    "    string = re.sub(r\"[\\^&%$#@><+\\-*.,!?;:/~\\(\\)]+\",\"\",string.lower())\n",
    "    return string"
   ]
  },
  {
   "cell_type": "code",
   "execution_count": 10,
   "metadata": {},
   "outputs": [],
   "source": [
    "product_log[\"query\"] = product_log[\"query\"].map(preprocess)\n",
    "product_log.product_name = product_log.product_name.map(preprocess)"
   ]
  },
  {
   "cell_type": "markdown",
   "metadata": {},
   "source": [
    "### Analyze how the search system work\n",
    "- Exact match vs semantic match?\n",
    "- Conclusion: close to exact match"
   ]
  },
  {
   "cell_type": "code",
   "execution_count": 11,
   "metadata": {
    "collapsed": true
   },
   "outputs": [],
   "source": [
    "def exact_match((title,query)):\n",
    "    \"\"\"\n",
    "    Check if the search engine returns only exact match results\n",
    "    \n",
    "    Inputs:\n",
    "        @title: product name of the record\n",
    "        @query: the user query\n",
    "    \n",
    "    Output:\n",
    "        A boolean value. True means exact match, False means non-exact-match\n",
    "    \"\"\"\n",
    "    if (query in title) or (query in title.lower()):\n",
    "        return True\n",
    "    return False\n",
    "\n",
    "product_log[\"exact_match\"] = map(exact_match,zip(product_log.product_name, product_log['query']))"
   ]
  },
  {
   "cell_type": "code",
   "execution_count": 12,
   "metadata": {},
   "outputs": [
    {
     "data": {
      "text/plain": [
       "<matplotlib.text.Text at 0x10bcd1450>"
      ]
     },
     "execution_count": 12,
     "metadata": {},
     "output_type": "execute_result"
    },
    {
     "data": {
      "image/png": "[encoded data removed]",
      "text/plain": [
       "<matplotlib.figure.Figure at 0x10af15690>"
      ]
     },
     "metadata": {},
     "output_type": "display_data"
    }
   ],
   "source": [
    "product_log.exact_match.plot(kind=\"hist\")\n",
    "plt.title(\"If the returned result is exact match\")"
   ]
  },
  {
   "cell_type": "markdown",
   "metadata": {},
   "source": [
    "### Study frequency of words"
   ]
  },
  {
   "cell_type": "code",
   "execution_count": 25,
   "metadata": {},
   "outputs": [],
   "source": [
    "# preprocessing\n",
    "def tokenize(string,allow_pos_tags = ['ns', 'n', 'vn', 'v','eng']):\n",
    "    \"\"\"\n",
    "    Tokenize a given string with a set of allowed POS tags\n",
    "    \n",
    "    Inputs:\n",
    "        @string: a text string\n",
    "        @allow_pos_tags: a list of allowed POS tags. Default is ['ns', 'n', 'vn', 'v','eng']\n",
    "        \n",
    "    Return:\n",
    "        @A generator of tokens\n",
    "    \"\"\"\n",
    "    words = pseg.cut(string)\n",
    "    for r in words:\n",
    "        if r.flag in allow_pos_tags:\n",
    "            yield(r.word)"
   ]
  },
  {
   "cell_type": "code",
   "execution_count": 28,
   "metadata": {},
   "outputs": [
    {
     "name": "stdout",
     "output_type": "stream",
     "text": [
      "CPU times: user 12min 11s, sys: 1.94 s, total: 12min 12s\n",
      "Wall time: 12min 14s\n",
      "CPU times: user 1min 22s, sys: 118 ms, total: 1min 22s\n",
      "Wall time: 1min 22s\n"
     ]
    }
   ],
   "source": [
    "%time titles = product_log.product_name.map(lambda x: list(tokenize(x)))\n",
    "%time keywords = product_log['query'].map(lambda x: list(tokenize(x)))"
   ]
  },
  {
   "cell_type": "code",
   "execution_count": 16,
   "metadata": {},
   "outputs": [
    {
     "name": "stdout",
     "output_type": "stream",
     "text": [
      "︱ibit︱gymshark 熱銷款 運動t恤 健身t恤 圓領短t 運動短t 健身鯊魚\n",
      "Word:  ︱ POS Tag:  x\n",
      "Word:  ibit POS Tag:  eng\n",
      "Word:  ︱ POS Tag:  x\n",
      "Word:  gymshark POS Tag:  eng\n",
      "Word:    POS Tag:  x\n",
      "Word:  熱銷款 POS Tag:  n\n",
      "Word:    POS Tag:  x\n",
      "Word:  運動 POS Tag:  vn\n",
      "Word:  t POS Tag:  eng\n",
      "Word:  恤 POS Tag:  n\n",
      "Word:    POS Tag:  x\n",
      "Word:  健身 POS Tag:  v\n",
      "Word:  t POS Tag:  eng\n",
      "Word:  恤 POS Tag:  n\n",
      "Word:    POS Tag:  x\n",
      "Word:  圓領 POS Tag:  n\n",
      "Word:  短 POS Tag:  b\n",
      "Word:  t POS Tag:  eng\n",
      "Word:    POS Tag:  x\n",
      "Word:  運動 POS Tag:  vn\n",
      "Word:  短 POS Tag:  b\n",
      "Word:  t POS Tag:  eng\n",
      "Word:    POS Tag:  x\n",
      "Word:  健身 POS Tag:  v\n",
      "Word:  鯊魚 POS Tag:  n\n"
     ]
    }
   ],
   "source": [
    "## show how the tokenizer work\n",
    "print product_log.product_name.iloc[1]\n",
    "words = pseg.cut(product_log.product_name.iloc[1])\n",
    "for r in words:\n",
    "    print \"Word: \", r.word, \"POS Tag: \",r.flag"
   ]
  },
  {
   "cell_type": "code",
   "execution_count": 29,
   "metadata": {
    "collapsed": true
   },
   "outputs": [],
   "source": [
    "product_log[\"query_tokens\"] = keywords\n",
    "product_log[\"title_tokens\"] = titles"
   ]
  },
  {
   "cell_type": "code",
   "execution_count": 30,
   "metadata": {},
   "outputs": [
    {
     "data": {
      "text/plain": [
       "Counter({'Click': 2297, 'Impression': 7999})"
      ]
     },
     "execution_count": 30,
     "metadata": {},
     "output_type": "execute_result"
    }
   ],
   "source": [
    "from collections import Counter\n",
    "Counter(product_log.event)"
   ]
  },
  {
   "cell_type": "code",
   "execution_count": 31,
   "metadata": {},
   "outputs": [],
   "source": [
    "# frequency count of tokens\n",
    "import operator\n",
    "corpus = titles + keywords\n",
    "corpus = [w for sentence in corpus for w in sentence]\n",
    "vocab = Counter(corpus)\n",
    "vocab = sorted(vocab.items(), key=operator.itemgetter(1),reverse=True)"
   ]
  },
  {
   "cell_type": "code",
   "execution_count": 32,
   "metadata": {},
   "outputs": [
    {
     "data": {
      "image/png": "[encoded data removed]",
      "text/plain": [
       "<matplotlib.figure.Figure at 0x10f7b27d0>"
      ]
     },
     "metadata": {},
     "output_type": "display_data"
    }
   ],
   "source": [
    "# word frequency plot\n",
    "plt.figure(figsize=(5,10))\n",
    "n = 50\n",
    "plt.barh(np.arange(n),np.array(vocab[:n])[:,1])\n",
    "_ = plt.yticks(np.arange(n), np.array(vocab[:n])[:,0],fontproperties=prop)"
   ]
  },
  {
   "cell_type": "code",
   "execution_count": 35,
   "metadata": {
    "collapsed": true
   },
   "outputs": [],
   "source": [
    "# save file\n",
    "import cPickle\n",
    "with open(\"data_preprocessed.pkl\",\"w\") as f:\n",
    "    cPickle.dump(product_log,f)"
   ]
  },
  {
   "cell_type": "code",
   "execution_count": null,
   "metadata": {
    "collapsed": true
   },
   "outputs": [],
   "source": []
  }
 ],
 "metadata": {
  "kernelspec": {
   "display_name": "Python 2",
   "language": "python",
   "name": "python2"
  },
  "language_info": {
   "codemirror_mode": {
    "name": "ipython",
    "version": 2
   },
   "file_extension": ".py",
   "mimetype": "text/x-python",
   "name": "python",
   "nbconvert_exporter": "python",
   "pygments_lexer": "ipython2",
   "version": "2.7.10"
  }
 },
 "nbformat": 4,
 "nbformat_minor": 2
}
